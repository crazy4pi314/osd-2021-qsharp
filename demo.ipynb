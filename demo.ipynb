{
 "cells": [
  {
   "cell_type": "markdown",
   "metadata": {
    "slideshow": {
     "slide_type": "slide"
    }
   },
   "source": [
    "## ⚠THIS NOTEBOOK WILL NOT AUTO-SAVE⚠"
   ]
  },
  {
   "cell_type": "markdown",
   "metadata": {
    "slideshow": {
     "slide_type": "slide"
    }
   },
   "source": [
    "# ⌚Demo Time⌚"
   ]
  },
  {
   "cell_type": "markdown",
   "metadata": {
    "slideshow": {
     "slide_type": "-"
    }
   },
   "source": [
    "Let's get started with Python by loading the package for Q# interoperability called `qsharp`."
   ]
  },
  {
   "cell_type": "code",
   "execution_count": null,
   "metadata": {
    "slideshow": {
     "slide_type": "-"
    }
   },
   "outputs": [],
   "source": [
    "import qsharp\n",
    "qsharp.component_versions()"
   ]
  },
  {
   "cell_type": "markdown",
   "metadata": {
    "slideshow": {
     "slide_type": "slide"
    }
   },
   "source": [
    "# Task: Generate _quantum_ random numbers\n",
    "\n",
    "We want to make a truly* random source that can generate a list of random bits like this:"
   ]
  },
  {
   "cell_type": "code",
   "execution_count": null,
   "metadata": {
    "slideshow": {
     "slide_type": "-"
    }
   },
   "outputs": [],
   "source": [
    "randomness = [0,1,0,0,1,1,0,1,0,1]"
   ]
  },
  {
   "cell_type": "markdown",
   "metadata": {},
   "source": [
    "<br><br>\n",
    "<tiny>*still simulated here so still pseudo-random</tiny>"
   ]
  },
  {
   "cell_type": "markdown",
   "metadata": {
    "slideshow": {
     "slide_type": "slide"
    }
   },
   "source": [
    "## Generating _quantum_ random numbers with Q\\# ##\n",
    "\n",
    "```Q#\n",
    "    operation Qrng() : Result {\n",
    "        use qubit = Qubit();   // Preparing the qubit\n",
    "        H(qubit);               // Do operation H\n",
    "        return MResetZ(qubit);  // Measure and reset qubit\n",
    "    }\n",
    "```\n",
    "How can we dive in to what is going on here?"
   ]
  },
  {
   "cell_type": "markdown",
   "metadata": {
    "slideshow": {
     "slide_type": "slide"
    }
   },
   "source": [
    "### Let's load the Q# code from Python!"
   ]
  },
  {
   "cell_type": "code",
   "execution_count": null,
   "metadata": {
    "slideshow": {
     "slide_type": "-"
    }
   },
   "outputs": [],
   "source": [
    "from OSD.Demo import Qrng"
   ]
  },
  {
   "cell_type": "code",
   "execution_count": null,
   "metadata": {
    "slideshow": {
     "slide_type": "-"
    }
   },
   "outputs": [],
   "source": [
    "directQRNG = qsharp.compile(\"\"\"\n",
    "    open Microsoft.Quantum.Measurement;\n",
    "    operation Qrng() : Result {\n",
    "        use qubit = Qubit();   // Preparing the qubit\n",
    "        H(qubit);               // Do operation H\n",
    "        return MResetZ(qubit);  // Measure and reset qubit\n",
    "    }\n",
    "\"\"\")"
   ]
  },
  {
   "cell_type": "markdown",
   "metadata": {
    "slideshow": {
     "slide_type": "slide"
    }
   },
   "source": [
    "## Understanding `SampleQrng`\n",
    "\n",
    "We can use built-in documentation strings, just like we can with Python functions."
   ]
  },
  {
   "cell_type": "code",
   "execution_count": null,
   "metadata": {
    "slideshow": {
     "slide_type": "-"
    }
   },
   "outputs": [],
   "source": [
    "?Qrng"
   ]
  },
  {
   "cell_type": "markdown",
   "metadata": {
    "slideshow": {
     "slide_type": "fragment"
    }
   },
   "source": [
    "That tells us what we can **do** with `SampleQrng`:"
   ]
  },
  {
   "cell_type": "code",
   "execution_count": null,
   "metadata": {
    "slideshow": {
     "slide_type": "fragment"
    }
   },
   "outputs": [],
   "source": [
    "[Qrng.simulate() for _ in range(10)]"
   ]
  },
  {
   "cell_type": "markdown",
   "metadata": {
    "slideshow": {
     "slide_type": "slide"
    }
   },
   "source": [
    "## ✨**Your turn!** ✨\n",
    "\n",
    "Write a python function that will generate a random number 0-15"
   ]
  },
  {
   "cell_type": "code",
   "execution_count": null,
   "metadata": {},
   "outputs": [],
   "source": [
    "def random_quantum_int():\n",
    "    bin_string = \"\".join(str(elem) for elem in [Qrng.simulate() for _ in range(4)])\n",
    "    return int(bin_string, 2)"
   ]
  },
  {
   "cell_type": "code",
   "execution_count": null,
   "metadata": {},
   "outputs": [],
   "source": [
    "random_quantum_int()"
   ]
  },
  {
   "cell_type": "markdown",
   "metadata": {
    "slideshow": {
     "slide_type": "slide"
    }
   },
   "source": [
    "## Hold up: What is a qubit?"
   ]
  },
  {
   "cell_type": "markdown",
   "metadata": {
    "slideshow": {
     "slide_type": "-"
    }
   },
   "source": [
    "- Answer: a single unit of information in a quantum computer \n",
    "    - _quantum + bit = qubit_"
   ]
  },
  {
   "cell_type": "markdown",
   "metadata": {
    "slideshow": {
     "slide_type": "fragment"
    }
   },
   "source": [
    "- We can predict what a single qubit will do by using a column vector of 2 complex numbers* like this:\n",
    "\n",
    "$\\left|{x}\\right\\rangle = \\left[\\begin{matrix} 1 + 0\\times i \\\\0 + 0\\times i \\end{matrix}\\right]$"
   ]
  },
  {
   "cell_type": "markdown",
   "metadata": {
    "slideshow": {
     "slide_type": "fragment"
    }
   },
   "source": [
    "We say that this vector is the representation of the **state** our qubit has.\n",
    "\n",
    "Using quantum states, you can predict and simulate how quantum computers work!"
   ]
  },
  {
   "cell_type": "markdown",
   "metadata": {
    "slideshow": {
     "slide_type": "slide"
    }
   },
   "source": [
    "## What can we _do_ with a qubit?"
   ]
  },
  {
   "cell_type": "markdown",
   "metadata": {
    "slideshow": {
     "slide_type": "-"
    }
   },
   "source": [
    "Similar to classical bits on your computer, you can do three types of things with qubits:\n",
    "\n",
    "- Prepare a qubit\n",
    "- Do operations with a qubit\n",
    "- Measure a qubit, getting classical data back (e.g.: 0 or 1)\n",
    "\n"
   ]
  },
  {
   "cell_type": "markdown",
   "metadata": {
    "slideshow": {
     "slide_type": "slide"
    }
   },
   "source": [
    "```\n",
    "namespace OSD.Demo {\n",
    "    operation Qrng() : Result {\n",
    "        use qubit = Qubit();  // Preparation\n",
    "        H(qubit);             // Operation \n",
    "        return M(qubit);      // Measurement\n",
    "    }\n",
    "}\n",
    "```"
   ]
  },
  {
   "cell_type": "markdown",
   "metadata": {
    "slideshow": {
     "slide_type": "slide"
    }
   },
   "source": [
    "### How can we \"get\" a qubit?"
   ]
  },
  {
   "cell_type": "code",
   "execution_count": null,
   "metadata": {
    "slideshow": {
     "slide_type": "-"
    }
   },
   "outputs": [],
   "source": [
    "prepare_qubit = qsharp.compile(\"\"\"\n",
    "open Microsoft.Quantum.Diagnostics;\n",
    "\n",
    "operation PrepareQubit() : Unit {\n",
    "    use qubit = Qubit();     // We want 1 qubit to use for our task\n",
    "        DumpMachine();     // Print out what the simulator is keeping a record of\n",
    "}\n",
    "\"\"\")"
   ]
  },
  {
   "cell_type": "markdown",
   "metadata": {},
   "source": [
    "The `DumpMachine` call asks the simulator to print the state that it's using to simulate your quantum program."
   ]
  },
  {
   "cell_type": "code",
   "execution_count": null,
   "metadata": {
    "slideshow": {
     "slide_type": "-"
    }
   },
   "outputs": [],
   "source": [
    "prepare_qubit.simulate()"
   ]
  },
  {
   "cell_type": "markdown",
   "metadata": {
    "slideshow": {
     "slide_type": "skip"
    }
   },
   "source": [
    "You can read the above output like the vector we wrote above, where the first column is the index, the second is the real part of the vector at that position, and the second is the complex part of that vector entry."
   ]
  },
  {
   "cell_type": "markdown",
   "metadata": {
    "slideshow": {
     "slide_type": "slide"
    }
   },
   "source": [
    "What does `DumpMachine` tell us?\n",
    "\n",
    "```\n",
    "|0⟩\t1 + 0𝑖\n",
    "|1⟩\t0 + 0𝑖\n",
    "```\n",
    "\n",
    "This is the same state we saw earlier!"
   ]
  },
  {
   "cell_type": "markdown",
   "metadata": {
    "slideshow": {
     "slide_type": "-"
    }
   },
   "source": [
    "$\\left|{x}\\right\\rangle = \\left[\\begin{matrix} 1 + 0\\times i \\\\0 + 0\\times i \\end{matrix}\\right]$"
   ]
  },
  {
   "cell_type": "markdown",
   "metadata": {
    "slideshow": {
     "slide_type": "slide"
    }
   },
   "source": [
    "# How about more qubits?!\n",
    "\n",
    "\n",
    "\n",
    "<figure style=\"text-align: center;\">\n",
    "    <img src=\"https://disneygenderevolution.files.wordpress.com/2014/12/ariel-the-little-mermaid-i-want-more-gif.gif\" width=\"60%\">\n",
    "    <caption>\n",
    "      <br>  \n",
    "        <strong></strong>\n",
    "    </caption>\n",
    "</figure>"
   ]
  },
  {
   "cell_type": "markdown",
   "metadata": {
    "slideshow": {
     "slide_type": "slide"
    }
   },
   "source": [
    "## ✨**Your turn!** ✨\n",
    "\n",
    "What would the representation of a 3 qubit state look like? A 4 qubit state? How does this scale?"
   ]
  },
  {
   "cell_type": "code",
   "execution_count": null,
   "metadata": {},
   "outputs": [],
   "source": [
    "prepare_register = qsharp.compile(\"\"\"\n",
    "open Microsoft.Quantum.Diagnostics;\n",
    "\n",
    "operation PrepareQubit() : Unit {\n",
    "    use register = Qubit[3];     // We want 1 qubit to use for our task\n",
    "        DumpMachine();     // Print out what the simulator is keeping a record of\n",
    "}\n",
    "\"\"\")"
   ]
  },
  {
   "cell_type": "code",
   "execution_count": null,
   "metadata": {},
   "outputs": [],
   "source": [
    "prepare_register.simulate()"
   ]
  },
  {
   "cell_type": "markdown",
   "metadata": {
    "slideshow": {
     "slide_type": "slide"
    }
   },
   "source": [
    "## Learning superposition by inspection"
   ]
  },
  {
   "cell_type": "markdown",
   "metadata": {
    "slideshow": {
     "slide_type": "-"
    }
   },
   "source": [
    "We can use `DumpMachine` again to understand see what the `H` operation does to our qubit."
   ]
  },
  {
   "cell_type": "code",
   "execution_count": null,
   "metadata": {
    "scrolled": true,
    "slideshow": {
     "slide_type": "-"
    }
   },
   "outputs": [],
   "source": [
    "from OSD.Demo import QrngWithDiagnostics\n",
    "\n",
    "QrngWithDiagnostics.simulate()"
   ]
  },
  {
   "cell_type": "markdown",
   "metadata": {
    "slideshow": {
     "slide_type": "slide"
    }
   },
   "source": [
    "The operation `H` on our qubit puts our simulated qubit in **superposition**:\n",
    "\n",
    "```\n",
    "After using H(qubit) to create a superposition state:\n",
    "|0⟩\t0.7071067811865476 + 0𝑖\n",
    "|1⟩\t0.7071067811865476 + 0𝑖   \n",
    "```\n",
    "\n",
    "#### 🚨Note: `DumpMachine` is showing the information the simulator has!🚨"
   ]
  },
  {
   "cell_type": "markdown",
   "metadata": {
    "slideshow": {
     "slide_type": "slide"
    }
   },
   "source": [
    "## Operations with multiple qubits can create 💕entanglement💕"
   ]
  },
  {
   "cell_type": "markdown",
   "metadata": {
    "slideshow": {
     "slide_type": "-"
    }
   },
   "source": [
    "Using Q# with Python, we can also explore other quantum effects that you can use in your programs, like **entanglement**.\n",
    "\n",
    "```\n",
    "operation EntangleQubits() : (Result, Result) {\n",
    "    // Preparing two qubits\n",
    "    use (qubit1, qubit2) = (Qubit(), Qubit());\n",
    "\n",
    "    // The operations on the qubits needed to entangle them\n",
    "    H(qubit1);\n",
    "    CNOT(qubit1, qubit2);\n",
    "\n",
    "    // Finally, measure and reset the qubits\n",
    "    return (MResetZ(qubit1), MResetZ(qubit2));\n",
    "}\n",
    "```"
   ]
  },
  {
   "cell_type": "code",
   "execution_count": null,
   "metadata": {
    "scrolled": true,
    "slideshow": {
     "slide_type": "slide"
    }
   },
   "outputs": [],
   "source": [
    "from OSD.Demo import EntangleQubits\n",
    "results = EntangleQubits.simulate(verbose=True)"
   ]
  },
  {
   "cell_type": "markdown",
   "metadata": {
    "slideshow": {
     "slide_type": "slide"
    }
   },
   "source": [
    "What does `DumpRegister` tell us this time?\n",
    "```\n",
    "|00⟩\t0.7071067811865476 + 0𝑖\n",
    "|01⟩\t0 + 0𝑖\n",
    "|10⟩\t0 + 0𝑖\n",
    "|11⟩\t0.7071067811865476 + 0𝑖\n",
    "```\n",
    "- ∣00❭➡ measuring both qubits give you `(0, 0)`\n",
    "- ∣11❭➡ measuring both qubits give you `(1, 1)`\n",
    "\n",
    "Using this state to predict measurement results, we don't know if we'll get `(0, 0)` or `(1, 1)`, but we can rule out `(0, 1)` and `(1, 0)`."
   ]
  },
  {
   "cell_type": "markdown",
   "metadata": {
    "slideshow": {
     "slide_type": "-"
    }
   },
   "source": [
    "No matter how many times we run, both measurements are equal to each other!"
   ]
  },
  {
   "cell_type": "markdown",
   "metadata": {
    "slideshow": {
     "slide_type": "fragment"
    }
   },
   "source": [
    "## Share the randomness\n",
    "\n",
    "- If you **entangle** two qubits and then share one, then you both measure you will have the same random number*.\n",
    "\n",
    "> If you are interested in this, check out quantum cryptography protocols like BB84!\n"
   ]
  },
  {
   "cell_type": "code",
   "execution_count": null,
   "metadata": {
    "slideshow": {
     "slide_type": "-"
    }
   },
   "outputs": [],
   "source": [
    "[EntangleQubits.simulate(verbose=False) for _ in range(10)]"
   ]
  },
  {
   "cell_type": "markdown",
   "metadata": {
    "slideshow": {
     "slide_type": "slide"
    }
   },
   "source": [
    "## ✨**Your turn!** ✨\n",
    "\n",
    "Can you tell the difference when measuring the entangled state you saw above prepared by:\n",
    "```\n",
    "H(qubit1);\n",
    "CNOT(qubit1, qubit2);\n",
    "```\n",
    "from another entangled state by using `MResetZ`?\n",
    "```\n",
    "X(qubit1);\n",
    "H(qubit1);\n",
    "CNOT(qubit1, qubit2);\n",
    "```\n",
    "What could you change to distinguish these?\n",
    "> The [Q# library docs](https://docs.microsoft.com/en-us/qsharp/api/qsharp/) could be helpful ♥"
   ]
  },
  {
   "cell_type": "markdown",
   "metadata": {
    "slideshow": {
     "slide_type": "slide"
    }
   },
   "source": [
    "# 🏆BONUS🏆"
   ]
  },
  {
   "cell_type": "markdown",
   "metadata": {
    "slideshow": {
     "slide_type": "slide"
    }
   },
   "source": [
    "## Building up quantum algorithm: Deutsch–Jozsa "
   ]
  },
  {
   "cell_type": "markdown",
   "metadata": {},
   "source": [
    "1. **Nimue**💃 asks **Merlin**🧙‍♂️ a single question of the form \"Should _`heir`_ be the king?\"\n",
    "2. **Merlin**🧙‍♂️ must respond with either \"yes\" or \"no,\" revealing nothing else."
   ]
  },
  {
   "cell_type": "markdown",
   "metadata": {},
   "source": [
    "### Merlin's possible strategies: a black box\n",
    "\n",
    "| | `heir` = Arthur | `heir` = Mordred | |\n",
    "|---|---|---|---|\n",
    "| Pick Arthur⚔ | yes | no | ☑ |\n",
    "| Pick Mordred🛡 | no | yes | ☑ |\n",
    "| Pick both | yes | yes | ☒ |\n",
    "| Pick neither | no | no | ☒ |"
   ]
  },
  {
   "cell_type": "markdown",
   "metadata": {
    "slideshow": {
     "slide_type": "skip"
    }
   },
   "source": [
    "- _Inputs_ ➡ **Nimue's**💃 question\n",
    "- _Outputs_ ➡ **Merlin's**🧙‍♂️ response\n",
    "<br>\n",
    "<br>\n",
    "<figure style=\"text-align: left;\">\n",
    "    <img src=\"media/twobit.png\" width=\"50%\">\n",
    "    <caption>\n",
    "      <br>  \n",
    "        <strong>Diagram of all possible one bit functions</strong>\n",
    "    </caption>\n",
    "</figure>"
   ]
  },
  {
   "cell_type": "markdown",
   "metadata": {
    "slideshow": {
     "slide_type": "slide"
    }
   },
   "source": [
    "<figure style=\"text-align: left;\">\n",
    "    <img src=\"media/twobitDJ.png\" width=\"40%\">\n",
    "    <caption>\n",
    "      <br>  \n",
    "        <strong>Global property of the one bit functions: Constant or Balanced</strong>\n",
    "    </caption>\n",
    "</figure>"
   ]
  },
  {
   "cell_type": "markdown",
   "metadata": {
    "slideshow": {
     "slide_type": "slide"
    }
   },
   "source": [
    "> ### Deutsch–Jozsa Algorithim ###\n",
    ">\n",
    ">* **GIVEN:** A black box quantum operation (called an *oracle*) which acts on an input qubit and a target qubit.\n",
    ">  We are promised that the oracle is either _constant_ or _balanced_. \n",
    ">\t\t\t\t\t\n",
    ">* **GOAL:** to determine if the oracle is _constant_ or _balanced_.\n",
    "\n",
    "### ❕ Deutsch–Jozsa can solve the puzzle in **one** query to a black box❕ (even with more than 1 bit)\n",
    "\n",
    "**Nimue**💃 is the lady of the lake, and hence has the power of quantum computing at her disposal.\n",
    "\n",
    "She can use _Deutsch-Jozsa_ to test **Merlin**🧙‍♂️ without meddling in the affairs of mortals!"
   ]
  },
  {
   "cell_type": "markdown",
   "metadata": {
    "slideshow": {
     "slide_type": "slide"
    }
   },
   "source": [
    "```\n",
    "operation CheckIfOracleIsBalanced(oracle : ((Qubit, Qubit) => Unit)) : Bool {\n",
    "    use (control, target) = (Qubit(), Qubit()));\n",
    "    // Prepare superposition on the control register.\n",
    "    H(control);                                   \n",
    "\n",
    "    // Use the phase kickback technique to learn a global property of our oracle.\n",
    "    within {\n",
    "        X(target);\n",
    "        H(target);\n",
    "    } apply {\n",
    "        oracle(control, target);\n",
    "    }\n",
    "\n",
    "    return MResetX(control) == One;                \n",
    "}\n",
    "```"
   ]
  },
  {
   "cell_type": "markdown",
   "metadata": {
    "slideshow": {
     "slide_type": "slide"
    }
   },
   "source": [
    "## Let's run this Q\\# code and see what it does..."
   ]
  },
  {
   "cell_type": "code",
   "execution_count": null,
   "metadata": {
    "slideshow": {
     "slide_type": "-"
    }
   },
   "outputs": [],
   "source": [
    "is_zero_oracle_balanced = qsharp.compile(\"\"\"\n",
    "    open OSD.DeutschJozsa;\n",
    "    operation IsZeroOracleBalanced() : Bool {\n",
    "    \n",
    "        return CheckIfOracleIsBalanced(true, ApplyZeroOracle);\n",
    "    }\n",
    "\"\"\")"
   ]
  },
  {
   "cell_type": "code",
   "execution_count": null,
   "metadata": {
    "slideshow": {
     "slide_type": "-"
    }
   },
   "outputs": [],
   "source": [
    "is_zero_oracle_balanced.simulate()"
   ]
  },
  {
   "cell_type": "markdown",
   "metadata": {
    "slideshow": {
     "slide_type": "slide"
    }
   },
   "source": [
    "Doing the same thing with the `one` oracle:"
   ]
  },
  {
   "cell_type": "code",
   "execution_count": null,
   "metadata": {},
   "outputs": [],
   "source": [
    "qsharp.compile(\"\"\"\n",
    "    open OSD.DeutschJozsa;\n",
    "\n",
    "    operation IsOneOracleBalanced() : Bool {\n",
    "        return CheckIfOracleIsBalanced(true, ApplyOneOracle);\n",
    "    }\n",
    "\"\"\").simulate()"
   ]
  },
  {
   "cell_type": "markdown",
   "metadata": {},
   "source": [
    "**NOTE:** The output states for the `zero` and `one` oracles differ only by a _global phase_ ; we can't tell which oracle we applied by looking at measurement results!"
   ]
  },
  {
   "cell_type": "markdown",
   "metadata": {
    "slideshow": {
     "slide_type": "slide"
    }
   },
   "source": [
    "<figure style=\"text-align: left;\">\n",
    "    <img src=\"media/twobitDJ.png\" width=\"40%\">\n",
    "    <caption>\n",
    "      <br>  \n",
    "        <strong>Global property of the one bit functions: Constant or Balanced</strong>\n",
    "    </caption>\n",
    "</figure>"
   ]
  },
  {
   "cell_type": "markdown",
   "metadata": {
    "slideshow": {
     "slide_type": "slide"
    }
   },
   "source": [
    "On the other hand, if we apply a balanced oracle instead, what happens?"
   ]
  },
  {
   "cell_type": "code",
   "execution_count": null,
   "metadata": {
    "slideshow": {
     "slide_type": "-"
    }
   },
   "outputs": [],
   "source": [
    "is_not_oracle_balanced = qsharp.compile(\"\"\"\n",
    "    open OSD.DeutschJozsa;\n",
    "\n",
    "    operation IsNotOracleBalanced(): Bool {\n",
    "        return CheckIfOracleIsBalanced(true, ApplyNotOracle);\n",
    "    }\n",
    "\"\"\")"
   ]
  },
  {
   "cell_type": "code",
   "execution_count": null,
   "metadata": {
    "slideshow": {
     "slide_type": "-"
    }
   },
   "outputs": [],
   "source": [
    "is_not_oracle_balanced.simulate()"
   ]
  },
  {
   "cell_type": "markdown",
   "metadata": {},
   "source": [
    "The sign in front of |00⟩ and |10⟩ changed, but |01⟩ and |11⟩ didn't, so it's not a _global_ phase, and we can measure it.\n",
    "\n",
    "**Nimue**💃 can tell whether the oracle is constant or balanced, but not anything else; exactly what she wanted!"
   ]
  },
  {
   "cell_type": "markdown",
   "metadata": {
    "slideshow": {
     "slide_type": "slide"
    }
   },
   "source": [
    "## Putting it all together: One query, one answer!"
   ]
  },
  {
   "cell_type": "code",
   "execution_count": null,
   "metadata": {
    "slideshow": {
     "slide_type": "-"
    }
   },
   "outputs": [],
   "source": [
    "from OSD.DeutschJozsa import RunDeutschJozsaAlgorithm"
   ]
  },
  {
   "cell_type": "code",
   "execution_count": null,
   "metadata": {
    "slideshow": {
     "slide_type": "-"
    }
   },
   "outputs": [],
   "source": [
    "RunDeutschJozsaAlgorithm.simulate(verbose=False)"
   ]
  },
  {
   "cell_type": "code",
   "execution_count": null,
   "metadata": {
    "slideshow": {
     "slide_type": "-"
    }
   },
   "outputs": [],
   "source": [
    "RunDeutschJozsaAlgorithm.simulate(verbose=True)"
   ]
  },
  {
   "cell_type": "markdown",
   "metadata": {
    "slideshow": {
     "slide_type": "slide"
    }
   },
   "source": [
    "## Camelot's future is safe!\n",
    "\n",
    "## You + Nimue💃 used a quantum algorithim to make sure of it 👍\n",
    "<br>\n",
    "<figure style=\"text-align: center;\">\n",
    "    <img src=\"https://thumbs.gfycat.com/SingleFatalAzurewingedmagpie-size_restricted.gif\" width=\"60%\">\n",
    "    <caption>\n",
    "      <br>  \n",
    "        <strong></strong>\n",
    "    </caption>\n",
    "</figure>\n"
   ]
  },
  {
   "cell_type": "markdown",
   "metadata": {
    "slideshow": {
     "slide_type": "slide"
    }
   },
   "source": [
    "## ... as long as Merlin🧙‍♂️ sticks to his role\n",
    "<bR>\n",
    "<figure style=\"text-align: center;\">\n",
    "    <img src=\"http://78.media.tumblr.com/tumblr_liogspF9bI1qh6b53o1_500.gif\" width=\"60%\">\n",
    "    <caption>\n",
    "      <br>  \n",
    "        <strong></strong>\n",
    "    </caption>\n",
    "</figure>"
   ]
  },
  {
   "cell_type": "markdown",
   "metadata": {
    "slideshow": {
     "slide_type": "slide"
    }
   },
   "source": [
    "# 📝 Review time 📝\n",
    "\n",
    "\n",
    "- Make random numbers ✔\n",
    "- Share random numbers with other people ✔\n",
    "- Help Nimue make sure Camelot is on the right track ✔\n",
    "- Use Python tools and skills to learn quantum computing ✔"
   ]
  },
  {
   "cell_type": "markdown",
   "metadata": {
    "slideshow": {
     "slide_type": "skip"
    }
   },
   "source": [
    "---\n",
    "\n",
    "## Helpful diagnostics :)"
   ]
  },
  {
   "cell_type": "code",
   "execution_count": null,
   "metadata": {
    "slideshow": {
     "slide_type": "skip"
    }
   },
   "outputs": [],
   "source": [
    "for component, version in sorted(qsharp.component_versions().items(), key=lambda x: x[0]):\n",
    "    print(f\"{component:20}{version}\")"
   ]
  },
  {
   "cell_type": "code",
   "execution_count": null,
   "metadata": {
    "slideshow": {
     "slide_type": "skip"
    }
   },
   "outputs": [],
   "source": [
    "import sys\n",
    "print(sys.version)"
   ]
  }
 ],
 "metadata": {
  "celltoolbar": "Slideshow",
  "kernelspec": {
   "display_name": "Python 3",
   "language": "python",
   "name": "python3"
  },
  "language_info": {
   "codemirror_mode": {
    "name": "ipython",
    "version": 3
   },
   "file_extension": ".py",
   "mimetype": "text/x-python",
   "name": "python",
   "nbconvert_exporter": "python",
   "pygments_lexer": "ipython3",
   "version": "3.7.10"
  },
  "livereveal": {
   "autolaunch": true,
   "scroll": true
  },
  "rise": {
   "controls": false
  }
 },
 "nbformat": 4,
 "nbformat_minor": 2
}
